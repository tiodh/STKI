{
 "cells": [
  {
   "cell_type": "code",
   "execution_count": 1,
   "metadata": {},
   "outputs": [],
   "source": [
    "from TextMining.Preprocessing import getFileFromCSV, tokenizing\n",
    "from TextMining.Rank import *\n",
    "\n",
    "DATABASE_FILE = \"data.csv\""
   ]
  },
  {
   "cell_type": "code",
   "execution_count": 2,
   "metadata": {},
   "outputs": [
    {
     "name": "stdout",
     "output_type": "stream",
     "text": [
      "No |Document                                          \n",
      "-------------------------------------------------------\n",
      "1  |mahasiswa fasilkom universitas jember adalah mahasiswa hebat\n",
      "2  |universitas jember memiliki 30.000 mahasiswa      \n",
      "3  |saat ini fasilkom universitas jember memiliki tiga prodi\n",
      "4  |prodi pertama fasilkom universitas jember saat ini adalah prodi sistem informasi\n",
      "\n"
     ]
    }
   ],
   "source": [
    "docs = getFileFromCSV(DATABASE_FILE)"
   ]
  },
  {
   "cell_type": "code",
   "execution_count": 3,
   "metadata": {},
   "outputs": [
    {
     "name": "stdout",
     "output_type": "stream",
     "text": [
      "obj  1 -> D 1  =  ['mahasiswa', 'fasilkom', 'universitas', 'jember', 'adalah', 'mahasiswa', 'hebat']\n",
      "obj  2 -> D 2  =  ['universitas', 'jember', 'memiliki', '30.000', 'mahasiswa']\n",
      "obj  3 -> D 3  =  ['saat', 'ini', 'fasilkom', 'universitas', 'jember', 'memiliki', 'tiga', 'prodi']\n",
      "obj  4 -> D 4  =  ['prodi', 'pertama', 'fasilkom', 'universitas', 'jember', 'saat', 'ini', 'adalah', 'prodi', 'sistem', 'informasi']\n",
      "\n"
     ]
    }
   ],
   "source": [
    "docs = tokenizing(docs)"
   ]
  },
  {
   "cell_type": "code",
   "execution_count": 4,
   "metadata": {},
   "outputs": [
    {
     "name": "stdout",
     "output_type": "stream",
     "text": [
      "Query: prodi fasilkom\n"
     ]
    }
   ],
   "source": [
    "query = input(\"Query: \")"
   ]
  },
  {
   "cell_type": "code",
   "execution_count": 5,
   "metadata": {},
   "outputs": [
    {
     "name": "stdout",
     "output_type": "stream",
     "text": [
      "Doc  3  =>  0.25\n",
      "Doc  4  =>  0.2\n",
      "Doc  1  =>  0.14285714285714285\n"
     ]
    },
    {
     "data": {
      "text/plain": [
       "{3: 0.25, 4: 0.2, 1: 0.14285714285714285}"
      ]
     },
     "execution_count": 5,
     "metadata": {},
     "output_type": "execute_result"
    }
   ],
   "source": [
    "Jaccard(query, docs)"
   ]
  },
  {
   "cell_type": "code",
   "execution_count": 6,
   "metadata": {},
   "outputs": [
    {
     "name": "stdout",
     "output_type": "stream",
     "text": [
      "Doc  3  =>  0.4\n",
      "Doc  4  =>  0.3076923076923077\n",
      "Doc  1  =>  0.2222222222222222\n"
     ]
    },
    {
     "data": {
      "text/plain": [
       "{3: 0.4, 4: 0.3076923076923077, 1: 0.2222222222222222}"
      ]
     },
     "execution_count": 6,
     "metadata": {},
     "output_type": "execute_result"
    }
   ],
   "source": [
    "DiceSorensen(query, docs)"
   ]
  },
  {
   "cell_type": "code",
   "execution_count": 7,
   "metadata": {},
   "outputs": [
    {
     "name": "stdout",
     "output_type": "stream",
     "text": [
      "Doc  3  =>  1.0\n",
      "Doc  4  =>  1.0\n",
      "Doc  1  =>  0.5\n"
     ]
    },
    {
     "data": {
      "text/plain": [
       "{3: 1.0, 4: 1.0, 1: 0.5}"
      ]
     },
     "execution_count": 7,
     "metadata": {},
     "output_type": "execute_result"
    }
   ],
   "source": [
    "OverlapSimilarity(query, docs)"
   ]
  },
  {
   "cell_type": "code",
   "execution_count": null,
   "metadata": {},
   "outputs": [],
   "source": []
  }
 ],
 "metadata": {
  "kernelspec": {
   "display_name": "Python 3",
   "language": "python",
   "name": "python3"
  },
  "language_info": {
   "codemirror_mode": {
    "name": "ipython",
    "version": 3
   },
   "file_extension": ".py",
   "mimetype": "text/x-python",
   "name": "python",
   "nbconvert_exporter": "python",
   "pygments_lexer": "ipython3",
   "version": "3.7.7"
  }
 },
 "nbformat": 4,
 "nbformat_minor": 2
}
