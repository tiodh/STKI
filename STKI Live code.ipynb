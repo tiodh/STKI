{
 "cells": [
  {
   "cell_type": "code",
   "execution_count": 6,
   "metadata": {},
   "outputs": [
    {
     "name": "stdout",
     "output_type": "stream",
     "text": [
      "[['mahasiswa', 'fasilkom', 'universitas', 'jember', 'adalah', 'mahasiswa', 'hebat'], ['universitas', 'jember', 'memiliki', '30.000', 'mahasiswa'], ['saat', 'ini', 'fasilkom', 'universitas', 'jember', 'memiliki', 'tiga', 'prodi'], ['prodi', 'pertama', 'fasilkom', 'universitas', 'jember', 'saat', 'ini', 'adalah', 'prodi', 'sistem', 'informasi']]\n"
     ]
    }
   ],
   "source": [
    "# Split document to words\n",
    "docs = [\n",
    "    \"mahasiswa fasilkom universitas jember adalah mahasiswa hebat\",\n",
    "    \"universitas jember memiliki 30.000 mahasiswa\",\n",
    "    \"saat ini fasilkom universitas jember memiliki tiga prodi\",\n",
    "    \"prodi pertama fasilkom universitas jember saat ini adalah prodi sistem informasi\"\n",
    "]\n",
    "\n",
    "docs_splited = []\n",
    "\n",
    "for i in range(len(docs)):\n",
    "    docs_splited.append(docs[i].split(\" \"))\n",
    "\n",
    "print(docs_splited)"
   ]
  },
  {
   "cell_type": "code",
   "execution_count": 12,
   "metadata": {},
   "outputs": [
    {
     "name": "stdout",
     "output_type": "stream",
     "text": [
      "{'30.000', 'saat', 'mahasiswa', 'sistem', 'informasi', 'pertama', 'universitas', 'memiliki', 'hebat', 'fasilkom', 'ini', 'tiga', 'prodi', 'adalah', 'jember'}\n"
     ]
    }
   ],
   "source": [
    "# Make colletion words from documents\n",
    "\n",
    "words = set()\n",
    "for doc in docs_splited:\n",
    "#     print(doc)\n",
    "    for word in doc:\n",
    "#         print(word)\n",
    "        words.add(word)\n",
    "\n",
    "print(words)"
   ]
  },
  {
   "cell_type": "code",
   "execution_count": 31,
   "metadata": {},
   "outputs": [
    {
     "name": "stdout",
     "output_type": "stream",
     "text": [
      "Dictionary          |Inverted List       \n",
      "-----------------------------------------\n",
      "30.000              |[2]                 \n",
      "adalah              |[1, 4]              \n",
      "fasilkom            |[1, 3, 4]           \n",
      "hebat               |[1]                 \n",
      "informasi           |[4]                 \n",
      "ini                 |[3, 4]              \n",
      "jember              |[1, 2, 3, 4]        \n",
      "mahasiswa           |[1, 2]              \n",
      "memiliki            |[2, 3]              \n",
      "pertama             |[4]                 \n",
      "prodi               |[3, 4]              \n",
      "saat                |[3, 4]              \n",
      "sistem              |[4]                 \n",
      "tiga                |[3]                 \n",
      "universitas         |[1, 2, 3, 4]        \n"
     ]
    }
   ],
   "source": [
    "# find documents contain word\n",
    "\n",
    "# mengiterasikan kata yang ada pada set words\n",
    "inverted_list = {}\n",
    "for word in words:\n",
    "    \n",
    "    temp = []\n",
    "    # mengenerate angka sesuai dengan banyaknya data pada variabel docs_splited\n",
    "    for i in range(len(docs_splited)):\n",
    "#         print(word,' ',docs_splited[i])\n",
    "        \n",
    "        #membandingkan kata pada variabel word dengan dokumen yang telah di split sesuai dengan variabel i\n",
    "        if word in docs_splited[i]:\n",
    "            temp.append(i+1)\n",
    "    inverted_list[word] = temp\n",
    "\n",
    "print('%-20s|%-20s' %('Dictionary','Inverted List'))\n",
    "print('-'*41)\n",
    "for key in sorted(inverted_list.keys()):\n",
    "    print('%-20s|%-20s' %(key, inverted_list[key]))\n",
    "    "
   ]
  },
  {
   "cell_type": "code",
   "execution_count": 37,
   "metadata": {},
   "outputs": [
    {
     "name": "stdout",
     "output_type": "stream",
     "text": [
      "query: mahasiswa hebat\n",
      "Theta:  ['mahasiswa', 'hebat']\n"
     ]
    }
   ],
   "source": [
    "# Make query preprocessing\n",
    "\n",
    "query = input(\"query: \")\n",
    "query_splited = query.split(\" \")\n",
    "print(\"Theta: \",query_splited)"
   ]
  },
  {
   "cell_type": "code",
   "execution_count": 40,
   "metadata": {},
   "outputs": [
    {
     "name": "stdout",
     "output_type": "stream",
     "text": [
      "Dokumen yang sesuai dengan query\n",
      "----------------------------------------\n",
      "mahasiswa s( 1 ): [1, 2]\n",
      "hebat s( 2 ): [1]\n"
     ]
    }
   ],
   "source": [
    "print(\"Dokumen yang sesuai dengan query\")\n",
    "print(\"-\"*40)\n",
    "i = 1\n",
    "for word in query_splited:\n",
    "    print(word,'s(',i,'):', inverted_list[word])\n",
    "    i+=1"
   ]
  },
  {
   "cell_type": "code",
   "execution_count": 43,
   "metadata": {},
   "outputs": [
    {
     "name": "stdout",
     "output_type": "stream",
     "text": [
      "{1}\n"
     ]
    }
   ],
   "source": [
    "mahasiswa = set(inverted_list['mahasiswa'])\n",
    "hebat = set(inverted_list['hebat'])\n",
    "print(mahasiswa.intersection(hebat))"
   ]
  },
  {
   "cell_type": "code",
   "execution_count": 44,
   "metadata": {},
   "outputs": [
    {
     "name": "stdout",
     "output_type": "stream",
     "text": [
      "{1, 2}\n"
     ]
    }
   ],
   "source": [
    "print(mahasiswa.union(hebat))"
   ]
  },
  {
   "cell_type": "code",
   "execution_count": 45,
   "metadata": {},
   "outputs": [
    {
     "name": "stdout",
     "output_type": "stream",
     "text": [
      "{2}\n"
     ]
    }
   ],
   "source": [
    "print(mahasiswa.symmetric_difference(hebat))"
   ]
  },
  {
   "cell_type": "code",
   "execution_count": null,
   "metadata": {},
   "outputs": [],
   "source": []
  }
 ],
 "metadata": {
  "kernelspec": {
   "display_name": "Python 3",
   "language": "python",
   "name": "python3"
  },
  "language_info": {
   "codemirror_mode": {
    "name": "ipython",
    "version": 3
   },
   "file_extension": ".py",
   "mimetype": "text/x-python",
   "name": "python",
   "nbconvert_exporter": "python",
   "pygments_lexer": "ipython3",
   "version": "3.7.6"
  }
 },
 "nbformat": 4,
 "nbformat_minor": 2
}
